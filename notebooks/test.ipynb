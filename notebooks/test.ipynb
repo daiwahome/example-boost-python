{
 "cells": [
  {
   "cell_type": "markdown",
   "metadata": {},
   "source": [
    "# Boost.Pythonの実装例\n",
    "## 概要\n",
    "- Boost.Pythonを用いてバブルソートを実装する\n",
    "  * 最悪時間計算量: $O(n^2)$\n",
    "- PythonとBoost.Pythonでの実装の実行時間について比較する\n",
    "\n",
    "## プログラム\n",
    "### 定義など"
   ]
  },
  {
   "cell_type": "code",
   "execution_count": 1,
   "metadata": {},
   "outputs": [],
   "source": [
    "import random\n",
    "\n",
    "from typing import List\n",
    "from sort import (\n",
    "    bubble_sort as cpp_bubble_sort,\n",
    "    bubble_sort_return_vector as cpp_bubble_sort_return_vector,\n",
    "    bubble_sort_return_list as cpp_bubble_sort_return_list,\n",
    ")"
   ]
  },
  {
   "cell_type": "code",
   "execution_count": 2,
   "metadata": {},
   "outputs": [],
   "source": [
    "def bubble_sort(data: List[int]) -> None:\n",
    "    \"\"\"バブルソートで昇順ソートします (破壊的)。\n",
    "    \n",
    "    :param data:\n",
    "        ソートするデータ\n",
    "    \"\"\"\n",
    "    length = len(data)\n",
    "    for i in range(1, length):\n",
    "        for j in reversed(range(i, length)):\n",
    "            if (data[j-1] > data[j]):\n",
    "                data[j-1], data[j] = data[j], data[j-1]"
   ]
  },
  {
   "cell_type": "code",
   "execution_count": 3,
   "metadata": {},
   "outputs": [],
   "source": [
    "max_ = 100\n",
    "length = 10000"
   ]
  },
  {
   "cell_type": "markdown",
   "metadata": {},
   "source": [
    "### Pythonでかいたもの"
   ]
  },
  {
   "cell_type": "code",
   "execution_count": 4,
   "metadata": {
    "scrolled": true
   },
   "outputs": [
    {
     "name": "stdout",
     "output_type": "stream",
     "text": [
      "10.8 s ± 1.07 s per loop (mean ± std. dev. of 7 runs, 1 loop each)\n"
     ]
    }
   ],
   "source": [
    "%%timeit\n",
    "\n",
    "bubble_sort(random.choices(range(max_), k=length))"
   ]
  },
  {
   "cell_type": "markdown",
   "metadata": {},
   "source": [
    "### Boost.Pythonでかいたもの\n",
    "1. そのままPythonのリストでソートするもの"
   ]
  },
  {
   "cell_type": "code",
   "execution_count": 5,
   "metadata": {},
   "outputs": [
    {
     "name": "stdout",
     "output_type": "stream",
     "text": [
      "9.84 s ± 341 ms per loop (mean ± std. dev. of 7 runs, 1 loop each)\n"
     ]
    }
   ],
   "source": [
    "%%timeit\n",
    "\n",
    "cpp_bubble_sort(random.choices(range(max_), k=length))"
   ]
  },
  {
   "cell_type": "markdown",
   "metadata": {},
   "source": [
    "2. `std::vector` に変換した後ソートするもの"
   ]
  },
  {
   "cell_type": "code",
   "execution_count": 6,
   "metadata": {},
   "outputs": [
    {
     "name": "stdout",
     "output_type": "stream",
     "text": [
      "56.2 ms ± 789 µs per loop (mean ± std. dev. of 7 runs, 10 loops each)\n"
     ]
    }
   ],
   "source": [
    "%%timeit\n",
    "\n",
    "_ = cpp_bubble_sort_return_vector(random.choices(range(max_), k=length))"
   ]
  },
  {
   "cell_type": "markdown",
   "metadata": {},
   "source": [
    "3. `std::vector` に変換&ソート後、Pythonのリストに変換して返すもの"
   ]
  },
  {
   "cell_type": "code",
   "execution_count": 7,
   "metadata": {
    "scrolled": true
   },
   "outputs": [
    {
     "name": "stdout",
     "output_type": "stream",
     "text": [
      "57.7 ms ± 1.02 ms per loop (mean ± std. dev. of 7 runs, 10 loops each)\n"
     ]
    }
   ],
   "source": [
    "%%timeit\n",
    "\n",
    "_ = cpp_bubble_sort_return_list(random.choices(range(max_), k=length))"
   ]
  },
  {
   "cell_type": "markdown",
   "metadata": {},
   "source": [
    "### おまけ: 言語標準のもの\n",
    "- Timsortらしい\n",
    "  * https://stackoverflow.com/questions/10948920/what-algorithm-does-pythons-sorted-use\n",
    "  * 最悪時間計算量: $O(nlogn)$"
   ]
  },
  {
   "cell_type": "code",
   "execution_count": 8,
   "metadata": {},
   "outputs": [
    {
     "name": "stdout",
     "output_type": "stream",
     "text": [
      "4.03 ms ± 109 µs per loop (mean ± std. dev. of 7 runs, 100 loops each)\n"
     ]
    }
   ],
   "source": [
    "%%timeit\n",
    "\n",
    "random.choices(range(max_), k=length).sort()"
   ]
  },
  {
   "cell_type": "markdown",
   "metadata": {},
   "source": [
    "## 結論\n",
    "- Pythonのリストをそのままソートする場合はそこまで実行時間は変わらない\n",
    "- `std::vector` に変換してソートするほうが速い\n",
    "- `std::vector` からPythonのリストに変換してもそこまでオーバーヘッドはなさそう\n",
    "- (重要) アルゴリズムの選択に注意を払うべき"
   ]
  }
 ],
 "metadata": {
  "kernelspec": {
   "display_name": "Python 3",
   "language": "python",
   "name": "python3"
  },
  "language_info": {
   "codemirror_mode": {
    "name": "ipython",
    "version": 3
   },
   "file_extension": ".py",
   "mimetype": "text/x-python",
   "name": "python",
   "nbconvert_exporter": "python",
   "pygments_lexer": "ipython3",
   "version": "3.7.0"
  }
 },
 "nbformat": 4,
 "nbformat_minor": 2
}
